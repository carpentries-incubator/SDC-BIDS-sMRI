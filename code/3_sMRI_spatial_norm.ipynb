{
 "metadata": {
  "language_info": {
   "codemirror_mode": {
    "name": "ipython",
    "version": 3
   },
   "file_extension": ".py",
   "mimetype": "text/x-python",
   "name": "python",
   "nbconvert_exporter": "python",
   "pygments_lexer": "ipython3",
   "version": 3
  },
  "orig_nbformat": 2
 },
 "nbformat": 4,
 "nbformat_minor": 2,
 "cells": [
  {
   "source": [
    "# Lesson: 4_sMRI_preproc_spatial_normalization\n",
    "\n",
    "## Objectives\n",
    "- Visualize templates and understand registration process\n",
    "\n",
    "## Python Requirements\n",
    "- [matplotlib](https://matplotlib.org/)\n",
    "- [nibabel](https://nipy.org/nibabel/)\n",
    "- [nilearn](https://nilearn.github.io/index.html)"
   ],
   "cell_type": "markdown",
   "metadata": {}
  },
  {
   "cell_type": "code",
   "execution_count": null,
   "metadata": {},
   "outputs": [],
   "source": [
    "from nilearn import image\n",
    "\n",
    "atlas = datasets.fetch_icbm152_2009()\n",
    "atlas_img = image.concat_imgs((atlas[\"gm\"], atlas[\"wm\"], atlas[\"csf\"]))\n",
    "map_labels = {\"Gray Matter\": 1, \"White Matter\": 2, \"Cerebrospinal Fluid\": 3}\n",
    "t1 = atlas[\"t1\"]\n",
    "img = nib.load(t1)\n",
    "img.shape\n",
    "plotting.plot_anat(img, title=\"plot_anat\", vmax=200)"
   ]
  }
 ]
}