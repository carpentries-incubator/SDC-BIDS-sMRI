{
 "metadata": {
  "language_info": {
   "codemirror_mode": {
    "name": "ipython",
    "version": 3
   },
   "file_extension": ".py",
   "mimetype": "text/x-python",
   "name": "python",
   "nbconvert_exporter": "python",
   "pygments_lexer": "ipython3",
   "version": "3.8.3-final"
  },
  "orig_nbformat": 2,
  "kernelspec": {
   "name": "python383jvsc74a57bd0cf722ec445c44a71bb7f2181f8b243feebe83c3fa2d490e2da0250faea5ec72e",
   "display_name": "Python 3.8.3 64-bit ('base': conda)"
  }
 },
 "nbformat": 4,
 "nbformat_minor": 2,
 "cells": [
  {
   "cell_type": "code",
   "execution_count": 2,
   "metadata": {},
   "outputs": [
    {
     "output_type": "error",
     "ename": "ModuleNotFoundError",
     "evalue": "No module named 'nipype'",
     "traceback": [
      "\u001b[0;31m---------------------------------------------------------------------------\u001b[0m",
      "\u001b[0;31mModuleNotFoundError\u001b[0m                       Traceback (most recent call last)",
      "\u001b[0;32m<ipython-input-2-6b38d02202ae>\u001b[0m in \u001b[0;36m<module>\u001b[0;34m\u001b[0m\n\u001b[0;32m----> 1\u001b[0;31m \u001b[0;32mimport\u001b[0m \u001b[0mnipype\u001b[0m\u001b[0;34m.\u001b[0m\u001b[0mpipeline\u001b[0m\u001b[0;34m.\u001b[0m\u001b[0mengine\u001b[0m \u001b[0;32mas\u001b[0m \u001b[0mpe\u001b[0m                        \u001b[0;31m# the workflow and node wrappers\u001b[0m\u001b[0;34m\u001b[0m\u001b[0;34m\u001b[0m\u001b[0m\n\u001b[0m\u001b[1;32m      2\u001b[0m \u001b[0;32mfrom\u001b[0m \u001b[0mnipype\u001b[0m\u001b[0;34m.\u001b[0m\u001b[0minterfaces\u001b[0m\u001b[0;34m.\u001b[0m\u001b[0mutility\u001b[0m \u001b[0;32mimport\u001b[0m \u001b[0mIdentityInterface\u001b[0m\u001b[0;34m\u001b[0m\u001b[0;34m\u001b[0m\u001b[0m\n\u001b[1;32m      3\u001b[0m \u001b[0;32mfrom\u001b[0m \u001b[0mnipype\u001b[0m\u001b[0;34m.\u001b[0m\u001b[0minterfaces\u001b[0m\u001b[0;34m.\u001b[0m\u001b[0mants\u001b[0m \u001b[0;32mimport\u001b[0m \u001b[0mN4BiasFieldCorrection\u001b[0m\u001b[0;34m\u001b[0m\u001b[0;34m\u001b[0m\u001b[0m\n\u001b[1;32m      4\u001b[0m \u001b[0;32mfrom\u001b[0m \u001b[0mnipype\u001b[0m\u001b[0;34m.\u001b[0m\u001b[0minterfaces\u001b[0m\u001b[0;34m.\u001b[0m\u001b[0mio\u001b[0m \u001b[0;32mimport\u001b[0m \u001b[0mSelectFiles\u001b[0m\u001b[0;34m,\u001b[0m \u001b[0mDataSink\u001b[0m\u001b[0;34m\u001b[0m\u001b[0;34m\u001b[0m\u001b[0m\n\u001b[1;32m      5\u001b[0m \u001b[0;34m\u001b[0m\u001b[0m\n",
      "\u001b[0;31mModuleNotFoundError\u001b[0m: No module named 'nipype'"
     ]
    }
   ],
   "source": [
    "import nipype.pipeline.engine as pe                        # the workflow and node wrappers\n",
    "from nipype.interfaces.utility import IdentityInterface\n",
    "from nipype.interfaces.ants import N4BiasFieldCorrection\n",
    "from nipype.interfaces.io import SelectFiles, DataSink\n",
    "\n",
    "import os\n",
    "\n"
   ]
  },
  {
   "cell_type": "code",
   "execution_count": null,
   "metadata": {},
   "outputs": [],
   "source": [
    "#2: Specify variables\n",
    "base_dir = \"/home/masoomeh/MR_Preprocess/\"\n",
    "output_dir = os.path.join(os.path.dirname(base_dir), \"out\")\n",
    "in_file = \"/home\"   \n",
    "subject_id = [\"Brats17_CBICA_AQA_1\"]\n",
    "\n",
    "#3: Specify nodes\n",
    "anat_input = pe.Node(IdentityInterface(fields=in_file, mandatory_inputs=True),name=\"anat_input\")\n",
    "biascor = pe.Node(N4BiasFieldCorrection(input_image = in_file,\n",
    "                                        dimension=3,\n",
    "        \t\t\t\tbspline_fitting_distance=300,\n",
    "       \t\t\t\t\tshrink_factor=3,\n",
    "        \t\t\t\tn_iterations=[50, 50, 30, 20],\n",
    "        \t\t\t\tconvergence_threshold=1e-6),\n",
    "\t\t\t\t\tname = \"bias_correction\")\n",
    "\n",
    "#4: Create the workflow object, specify workflow \n",
    "wf = pe.Workflow(name='preproc')\n",
    "wf.base_dir = '.'\n",
    "\n",
    "\n",
    "#5: Input and output stream\n",
    "\n",
    "templates = {'anat': 'data/{subject_id}/struct.nii'}\n",
    "selectfiles = pe.Node(SelectFiles(templates,\n",
    "                                  base_directory=base_dir), name=\"selectfiles\")\n",
    "\n",
    "\n",
    "datasink = pe.Node(DataSink(parameterization=False), name=\"datasink\")\n",
    "datasink.inputs.base_directory = \"/home/masoomeh/MR_Preprocess/\"\n",
    "datasink.inputs.container = output_dir\n",
    "substitutions = [('_subject_id_', '')]\n",
    "datasink.inputs.substitutions = substitutions\n",
    "\n",
    "\n",
    "infosource = pe.Node(IdentityInterface(fields=[\"subject_id\"]), name=\"infosource\")\n",
    "\n",
    "wf.connect([\n",
    "           # Connect SelectFiles and DataSink to the workflow\n",
    "           (infosource, selectfiles, [(\"subject_id\", \"subject_id\")]),\n",
    "           (selectfiles, anat_input, [(\"anat\", \"in_file\")]),\n",
    "           (anat_input, biascor, [(\"in_file\", \"input_image\")]),\n",
    "           (anat_input, datasink, [(\"in_file\", \"output_anat\")]),\n",
    "            # input to datasink\n",
    "           (biascor,   datasink    , [(\"output_image\", \"output_bias\")]),\n",
    "           ])\n",
    "#6. run worflow\n",
    "wf.write_graph()\n",
    "\n",
    "wf.run()"
   ]
  }
 ]
}